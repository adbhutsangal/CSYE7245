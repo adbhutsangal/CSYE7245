{
 "cells": [
  {
   "cell_type": "markdown",
   "metadata": {},
   "source": [
    "# ResNet50"
   ]
  },
  {
   "cell_type": "markdown",
   "metadata": {},
   "source": [
    "### Importing Library and Models [1]"
   ]
  },
  {
   "cell_type": "code",
   "execution_count": 1,
   "metadata": {},
   "outputs": [
    {
     "name": "stderr",
     "output_type": "stream",
     "text": [
      "Using TensorFlow backend.\n"
     ]
    }
   ],
   "source": [
    "from __future__ import print_function\n",
    "from keras.applications.resnet50 import ResNet50, preprocess_input\n",
    "from keras.layers import Input, AveragePooling2D, Dropout\n",
    "from sklearn.model_selection import train_test_split\n",
    "from keras.models import Model\n",
    "from sklearn.metrics import f1_score\n",
    "from keras.layers.core import Dense, Activation, Flatten, Dropout\n",
    "import math\n",
    "from keras import optimizers\n",
    "from keras.layers.convolutional import Convolution2D\n",
    "from keras.layers.pooling import MaxPooling2D\n",
    "from keras.regularizers import l2\n",
    "import codecs\n",
    "import sklearn.metrics as sklm\n",
    "from keras.utils.np_utils import to_categorical\n",
    "import keras\n",
    "import matplotlib.pyplot as plt\n",
    "import tensorflow as tf\n",
    "import keras.backend as K\n",
    "import sys\n",
    "\n",
    "import os\n",
    "import cv2\n",
    "import numpy as np\n",
    "import scipy.misc as sm"
   ]
  },
  {
   "cell_type": "markdown",
   "metadata": {},
   "source": [
    "### Loading the Data [1]"
   ]
  },
  {
   "cell_type": "code",
   "execution_count": 2,
   "metadata": {},
   "outputs": [
    {
     "name": "stdout",
     "output_type": "stream",
     "text": [
      "['Apple___Cedar_apple_rust', 'Apple___Apple_scab', 'Apple___Black_rot', 'Apple___healthy']\n",
      "Reach 1 \n",
      "\n"
     ]
    }
   ],
   "source": [
    "#loading the data from the folder\n",
    "ls1=os.listdir('color')\n",
    "\n",
    "if '.DS_Store' in ls1:\n",
    "    ls1.remove('.DS_Store')\n",
    "\n",
    "print(ls1)\n",
    "\n",
    "dic1={}\n",
    "count=0\n",
    "\n",
    "#taking the count of the files\n",
    "for idx,i in enumerate(ls1):\n",
    "    dic1[i]=idx\n",
    "    ls2=os.listdir('color/'+i)\n",
    "    if '.DS_Store' in ls2:\n",
    "        ls2.remove('.DS_Store')\n",
    "    for j in ls2:\n",
    "        count=count+1\n",
    "        \n",
    "print(\"Reach 1 \\n\")\n",
    "ls1=os.listdir('color')\n",
    "if '.DS_Store' in ls1:\n",
    "    ls1.remove('.DS_Store')\n",
    "\n",
    "dic1={}\n",
    "X=np.zeros((count,256,256,3))\n",
    "Y=np.zeros((count,1))\n",
    "vap=0\n",
    "\n",
    "#Putting images and labels in X and Y\n",
    "for idx,i in enumerate(ls1):\n",
    "    dic1[i]=idx\n",
    "    ls2=os.listdir('color/'+i)\n",
    "    if '.DS_Store' in ls2:\n",
    "        ls2.remove('.DS_Store')\n",
    "    for idx2,j in enumerate(ls2):\n",
    "        X[vap, :, :, :]=cv2.imread('color/'+i+'/'+j)\n",
    "        Y[vap,0]=idx\n",
    "        vap=vap+1"
   ]
  },
  {
   "cell_type": "markdown",
   "metadata": {},
   "source": [
    "### Defining Metric Functions [1]"
   ]
  },
  {
   "cell_type": "code",
   "execution_count": 3,
   "metadata": {},
   "outputs": [],
   "source": [
    "class Metrics(keras.callbacks.Callback):\n",
    "    def on_train_begin(self, logs={}):\n",
    "        self.confusion = []\n",
    "        self.precision = []\n",
    "        self.recall = []\n",
    "        self.f1s = []\n",
    "\n",
    "    def on_epoch_end(self, epoch, logs={}):\n",
    "        score = np.asarray(self.model.predict(self.validation_data[0]))\n",
    "        predict = np.round(np.asarray(self.model.predict(self.validation_data[0])))\n",
    "        targ = self.validation_data[1]\n",
    "\n",
    "        self.f1s.append(sklm.f1_score(targ, predict,average='micro'))\n",
    "        self.confusion.append(sklm.confusion_matrix(targ.argmax(axis=1),predict.argmax(axis=1)))\n",
    "\n",
    "        return"
   ]
  },
  {
   "cell_type": "markdown",
   "metadata": {},
   "source": [
    "### Setting Hyper-parameters [1]"
   ]
  },
  {
   "cell_type": "code",
   "execution_count": 4,
   "metadata": {},
   "outputs": [
    {
     "name": "stdout",
     "output_type": "stream",
     "text": [
      "Reach 2.5 \n",
      "\n"
     ]
    }
   ],
   "source": [
    "#Hyperparameters\n",
    "batch_size = 64\n",
    "num_classes = len(dic1)\n",
    "epochs = 30\n",
    "\n",
    "# input image dimensions\n",
    "img_rows, img_cols = 256, 256\n",
    "h = 299\n",
    "w = 299\n",
    "ch = 3\n",
    "print(\"Reach 2.5 \\n\")\n",
    "#tensor. will receive cifar10 images as input, gets passed to resize_images\n",
    "img_placeholder = tf.placeholder(\"uint8\", (None, 256, 256, 3))\n",
    "\n",
    "#tensor. resized images. gets passed into Session()\n",
    "resize_op = tf.image.resize_images(img_placeholder, (h, w), method=0)"
   ]
  },
  {
   "cell_type": "markdown",
   "metadata": {},
   "source": [
    "### Defining Pre-processing Images function[1] and the ResNet50 Model [1]"
   ]
  },
  {
   "cell_type": "code",
   "execution_count": 5,
   "metadata": {},
   "outputs": [
    {
     "name": "stdout",
     "output_type": "stream",
     "text": [
      "Reach 2.8 \n",
      "\n"
     ]
    }
   ],
   "source": [
    "# create a generator for batch processing\n",
    "# this gen is written as if you could run through ALL of the data\n",
    "# AWS instance doesn't have enough memory to hold the entire training bottleneck in memory\n",
    "# so we will call for 10000 samples when we call it\n",
    "def gen(session, data, labels, batch_size):\n",
    "    def _f():\n",
    "        start = 0\n",
    "        end = start + batch_size\n",
    "        n = data.shape[0]\n",
    "        max_iter = math.ceil(n/batch_size)\n",
    "        while True:\n",
    "            # run takes in a tensor/function and performs it.\n",
    "            # almost always, that function will take a Tensor as input\n",
    "            # when run is called, it takes a feed_dict param which translates\n",
    "            # Tensors into actual data/integers/floats/etc\n",
    "            # this is so you can write a network and only have to change the\n",
    "            # data being passed in one place instead of everywhere\n",
    "            for i in range(0,max_iter):\n",
    "                # X_batch is resized\n",
    "                X_batch = session.run(resize_op, {img_placeholder: data[start:end]})\n",
    "                # X_batch is normalized\n",
    "                X_batch = preprocess_input(X_batch)\n",
    "                y_batch = labels[start:end]\n",
    "                start += batch_size\n",
    "                end += batch_size\n",
    "\n",
    "                yield (X_batch, y_batch)\n",
    "\n",
    "    return _f\n",
    "\n",
    "def create_model_resnet():\n",
    "    #create input tensor\n",
    "    input_tensor = Input(shape=(h, w, ch))\n",
    "    #set the model\n",
    "    model = ResNet50(input_tensor=input_tensor, include_top=False)\n",
    "    return model\n",
    "print(\"Reach 2.8 \\n\")"
   ]
  },
  {
   "cell_type": "markdown",
   "metadata": {},
   "source": [
    "### Splitting the data into Train and Test [1]"
   ]
  },
  {
   "cell_type": "code",
   "execution_count": 6,
   "metadata": {},
   "outputs": [
    {
     "name": "stdout",
     "output_type": "stream",
     "text": [
      "Reach 3 \n",
      "\n",
      "(2219, 256, 256, 3)\n",
      "(2219, 1)\n"
     ]
    }
   ],
   "source": [
    "X_train1, X_val1, y_train, y_val = train_test_split(X, Y, test_size=0.3, random_state=0,shuffle=True)\n",
    "print(\"Reach 3 \\n\")\n",
    "print(X_train1.shape)\n",
    "print(y_train.shape)"
   ]
  },
  {
   "cell_type": "markdown",
   "metadata": {},
   "source": [
    "### Training the model on the dataset [1]"
   ]
  },
  {
   "cell_type": "code",
   "execution_count": 7,
   "metadata": {},
   "outputs": [
    {
     "name": "stderr",
     "output_type": "stream",
     "text": [
      "/anaconda3/lib/python3.6/site-packages/keras_applications/resnet50.py:263: UserWarning: The output shape of `ResNet50(include_top=False)` has been changed since Keras 2.2.0.\n",
      "  warnings.warn('The output shape of `ResNet50(include_top=False)` '\n"
     ]
    },
    {
     "name": "stdout",
     "output_type": "stream",
     "text": [
      "conv to train list complete\n",
      "conv to val list complete\n",
      "Reach 4 \n",
      "\n",
      "Reach 4 end \n",
      "\n"
     ]
    }
   ],
   "source": [
    "with tf.Session() as sess:\n",
    "    K.set_session(sess)\n",
    "    K.set_learning_phase(1)\n",
    "\n",
    "    model = create_model_resnet()                         #call the model function\n",
    "\n",
    "    train_gen = gen(sess, X_train1, y_train, batch_size)  #pre-process the train data\n",
    "    \n",
    "    X_train = model.predict_generator(train_gen(), 64)    #implement model on train data\n",
    "    print(\"conv to train list complete\")\n",
    "    \n",
    "\n",
    "    val_gen = gen(sess, X_val1, y_val, batch_size)        #pre-process the test data\n",
    "    \n",
    "    X_val = model.predict_generator(val_gen(), 64)        #implement model on test data\n",
    "    print(\"conv to val list complete\")\n",
    "    \n",
    "print(\"Reach 4 \\n\")\n",
    "\n",
    "#set the target labels according to the number of classess\n",
    "y_train = to_categorical(y_train, num_classes= num_classes)\n",
    "y_val = to_categorical(y_val,num_classes = num_classes)\n",
    "\n",
    "print(\"Reach 4 end \\n\")"
   ]
  },
  {
   "cell_type": "markdown",
   "metadata": {},
   "source": [
    "### Creating the Final Layer [1]"
   ]
  },
  {
   "cell_type": "code",
   "execution_count": 8,
   "metadata": {},
   "outputs": [],
   "source": [
    "# Adding final layer\n",
    "input_shape = X_train.shape[1:]\n",
    "inp = Input(shape=input_shape)\n",
    "x = Flatten()(inp)\n",
    "x = Dense(num_classes, activation='softmax')(x)\n",
    "model = Model(inp, x)\n",
    "sgd = optimizers.SGD(lr=0.001, decay=1e-6, momentum=0.9, nesterov=True)\n",
    "model.compile(optimizer=sgd, loss='categorical_crossentropy', metrics=['accuracy'])\n",
    "\n",
    "metrics = Metrics()"
   ]
  },
  {
   "cell_type": "markdown",
   "metadata": {},
   "source": [
    "### Results [1]"
   ]
  },
  {
   "cell_type": "code",
   "execution_count": 9,
   "metadata": {},
   "outputs": [
    {
     "name": "stdout",
     "output_type": "stream",
     "text": [
      "Train on 2219 samples, validate on 952 samples\n",
      "Epoch 1/30\n",
      "2219/2219 [==============================] - 8s 3ms/step - loss: 7.4844 - acc: 0.5155 - val_loss: 8.0896 - val_acc: 0.4979\n",
      "Epoch 2/30\n",
      "2219/2219 [==============================] - 7s 3ms/step - loss: 7.1726 - acc: 0.5507 - val_loss: 5.1239 - val_acc: 0.6754\n",
      "Epoch 3/30\n",
      "2219/2219 [==============================] - 7s 3ms/step - loss: 4.6645 - acc: 0.7066 - val_loss: 4.8438 - val_acc: 0.6964\n",
      "Epoch 4/30\n",
      "2219/2219 [==============================] - 7s 3ms/step - loss: 4.5696 - acc: 0.7156 - val_loss: 4.7929 - val_acc: 0.7006\n",
      "Epoch 5/30\n",
      "2219/2219 [==============================] - 7s 3ms/step - loss: 4.5614 - acc: 0.7165 - val_loss: 4.8009 - val_acc: 0.7006\n",
      "Epoch 6/30\n",
      "2219/2219 [==============================] - 7s 3ms/step - loss: 4.5528 - acc: 0.7170 - val_loss: 4.8068 - val_acc: 0.6996\n",
      "Epoch 7/30\n",
      "2219/2219 [==============================] - 7s 3ms/step - loss: 4.5474 - acc: 0.7174 - val_loss: 4.7998 - val_acc: 0.6996\n",
      "Epoch 8/30\n",
      "2219/2219 [==============================] - 7s 3ms/step - loss: 4.5471 - acc: 0.7179 - val_loss: 4.7995 - val_acc: 0.7006\n",
      "Epoch 9/30\n",
      "2219/2219 [==============================] - 7s 3ms/step - loss: 4.5471 - acc: 0.7179 - val_loss: 4.7995 - val_acc: 0.7006\n",
      "Epoch 10/30\n",
      "2219/2219 [==============================] - 7s 3ms/step - loss: 4.5471 - acc: 0.7179 - val_loss: 4.7995 - val_acc: 0.7006\n",
      "Epoch 11/30\n",
      "2219/2219 [==============================] - 7s 3ms/step - loss: 4.5471 - acc: 0.7179 - val_loss: 4.7995 - val_acc: 0.7006\n",
      "Epoch 12/30\n",
      "2219/2219 [==============================] - 7s 3ms/step - loss: 4.5471 - acc: 0.7179 - val_loss: 4.7995 - val_acc: 0.7006\n",
      "Epoch 13/30\n",
      "2219/2219 [==============================] - 7s 3ms/step - loss: 4.5471 - acc: 0.7179 - val_loss: 4.7995 - val_acc: 0.7006\n",
      "Epoch 14/30\n",
      "2219/2219 [==============================] - 7s 3ms/step - loss: 4.5471 - acc: 0.7179 - val_loss: 4.7995 - val_acc: 0.7006\n",
      "Epoch 15/30\n",
      "2219/2219 [==============================] - 7s 3ms/step - loss: 4.5471 - acc: 0.7179 - val_loss: 4.7995 - val_acc: 0.7006\n",
      "Epoch 16/30\n",
      "2219/2219 [==============================] - 7s 3ms/step - loss: 4.5471 - acc: 0.7179 - val_loss: 4.7995 - val_acc: 0.7006\n",
      "Epoch 17/30\n",
      "2219/2219 [==============================] - 7s 3ms/step - loss: 4.5471 - acc: 0.7179 - val_loss: 4.7995 - val_acc: 0.7006\n",
      "Epoch 18/30\n",
      "2219/2219 [==============================] - 7s 3ms/step - loss: 4.5471 - acc: 0.7179 - val_loss: 4.7995 - val_acc: 0.7006\n",
      "Epoch 19/30\n",
      "2219/2219 [==============================] - 7s 3ms/step - loss: 4.5471 - acc: 0.7179 - val_loss: 4.7995 - val_acc: 0.7006\n",
      "Epoch 20/30\n",
      "2219/2219 [==============================] - 7s 3ms/step - loss: 4.5471 - acc: 0.7179 - val_loss: 4.7995 - val_acc: 0.7006\n",
      "Epoch 21/30\n",
      "2219/2219 [==============================] - 7s 3ms/step - loss: 4.5471 - acc: 0.7179 - val_loss: 4.7995 - val_acc: 0.7006\n",
      "Epoch 22/30\n",
      "2219/2219 [==============================] - 7s 3ms/step - loss: 4.5471 - acc: 0.7179 - val_loss: 4.7995 - val_acc: 0.7006\n",
      "Epoch 23/30\n",
      "2219/2219 [==============================] - 7s 3ms/step - loss: 4.5471 - acc: 0.7179 - val_loss: 4.7995 - val_acc: 0.7006\n",
      "Epoch 24/30\n",
      "2219/2219 [==============================] - 7s 3ms/step - loss: 4.5471 - acc: 0.7179 - val_loss: 4.7995 - val_acc: 0.7006\n",
      "Epoch 25/30\n",
      "2219/2219 [==============================] - 7s 3ms/step - loss: 4.5471 - acc: 0.7179 - val_loss: 4.7995 - val_acc: 0.7006\n",
      "Epoch 26/30\n",
      "2219/2219 [==============================] - 7s 3ms/step - loss: 4.5471 - acc: 0.7179 - val_loss: 4.7995 - val_acc: 0.7006\n",
      "Epoch 27/30\n",
      "2219/2219 [==============================] - 7s 3ms/step - loss: 4.5471 - acc: 0.7179 - val_loss: 4.7995 - val_acc: 0.7006\n",
      "Epoch 28/30\n",
      "2219/2219 [==============================] - 7s 3ms/step - loss: 4.5471 - acc: 0.7179 - val_loss: 4.7995 - val_acc: 0.7006\n",
      "Epoch 29/30\n",
      "2219/2219 [==============================] - 7s 3ms/step - loss: 4.5471 - acc: 0.7179 - val_loss: 4.7995 - val_acc: 0.7006\n",
      "Epoch 30/30\n",
      "2219/2219 [==============================] - 7s 3ms/step - loss: 4.5471 - acc: 0.7179 - val_loss: 4.7995 - val_acc: 0.7006\n",
      "[0.49789915966386555, 0.6754201680672269, 0.6964285714285714, 0.7006302521008403, 0.7006302521008403, 0.6995798319327731, 0.6995798319327731, 0.7006302521008403, 0.7006302521008403, 0.7006302521008403, 0.7006302521008403, 0.7006302521008403, 0.7006302521008403, 0.7006302521008403, 0.7006302521008403, 0.7006302521008403, 0.7006302521008403, 0.7006302521008403, 0.7006302521008403, 0.7006302521008403, 0.7006302521008403, 0.7006302521008403, 0.7006302521008403, 0.7006302521008403, 0.7006302521008403, 0.7006302521008403, 0.7006302521008403, 0.7006302521008403, 0.7006302521008403, 0.7006302521008403]\n",
      "[0.5155475444759319, 0.5506985124407077, 0.7066246056245113, 0.7156376747893771, 0.7165389812545983, 0.7169896347020971, 0.7174402883644844, 0.7178909421074546, 0.7178909418119832, 0.7178909420268715, 0.7178909415970949, 0.7178909415970949, 0.7178909415165118, 0.7178909418925663, 0.7178909413822065, 0.7178909421880377, 0.7178909413822065, 0.7178909413822065, 0.7178909413016235, 0.7178909413016235, 0.7178909418119832, 0.7178909422417599, 0.7178909415970949, 0.7178909413822065, 0.7178909418119832, 0.7178909415970949, 0.7178909418119832, 0.717890942322343, 0.7178909413822065, 0.7178909418119832]\n"
     ]
    },
    {
     "data": {
      "image/png": "[encoded data removed]",
      "text/plain": [
       "<Figure size 432x288 with 1 Axes>"
      ]
     },
     "metadata": {
      "needs_background": "light"
     },
     "output_type": "display_data"
    },
    {
     "data": {
      "image/png": "[encoded data removed]",
      "text/plain": [
       "<Figure size 432x288 with 1 Axes>"
      ]
     },
     "metadata": {
      "needs_background": "light"
     },
     "output_type": "display_data"
    },
    {
     "data": {
      "image/png": "[encoded data removed]",
      "text/plain": [
       "<Figure size 432x288 with 1 Axes>"
      ]
     },
     "metadata": {
      "needs_background": "light"
     },
     "output_type": "display_data"
    },
    {
     "name": "stdout",
     "output_type": "stream",
     "text": [
      "[[  0   0  35  37]\n",
      " [  0   0  38 170]\n",
      " [  0   0 195   3]\n",
      " [  0   0   2 472]]\n",
      "Reach End \n",
      "\n"
     ]
    }
   ],
   "source": [
    "with tf.Session() as sess:\n",
    "    # fetch session so Keras API can work\n",
    "    K.set_session(sess)\n",
    "    K.set_learning_phase(1)\n",
    "    history =model.fit(X_train, y_train, epochs=epochs, batch_size=batch_size,\n",
    "                       validation_data=(X_val, y_val), shuffle=True, verbose=1,callbacks=[metrics] )\n",
    "    print(metrics.f1s)\n",
    "\n",
    "    acc = history.history['acc']\n",
    "    val_acc = history.history['val_acc']\n",
    "    loss = history.history['loss']\n",
    "    val_loss = history.history['val_loss']\n",
    "    print(history.history['acc'])\n",
    "    \n",
    "    # summarize history for accuracy\n",
    "    plt.plot(history.history['acc'])\n",
    "    plt.plot(history.history['val_acc'])\n",
    "    plt.title('model accuracy')\n",
    "    plt.ylabel('accuracy')\n",
    "    plt.xlabel('epoch')\n",
    "    plt.legend(['train ' + str(acc[-1]), 'test ' + str(val_acc[-1])], loc='upper left')\n",
    "    plt.show()\n",
    "\n",
    "    # summarize history for loss\n",
    "    plt.plot(history.history['loss'])\n",
    "    plt.plot(history.history['val_loss'])\n",
    "    plt.title('model loss')\n",
    "    plt.ylabel('loss')\n",
    "    plt.xlabel('epoch')\n",
    "    plt.legend(['train ' + str(loss[-1]), 'test ' + str(val_loss[-1])], loc='upper left')\n",
    "    plt.show()\n",
    "\n",
    "    # # summarize history for f1\n",
    "    plt.plot(metrics.f1s)\n",
    "    # plt.plot(history.history['val_f1'])\n",
    "    plt.title('f1 mean score')\n",
    "    plt.ylabel('f1')\n",
    "    plt.xlabel('epoch')\n",
    "    plt.legend(['val ' + str(metrics.f1s[-1])], loc='upper left')\n",
    "    plt.show()\n",
    "\n",
    "    print(metrics.confusion[-1])\n",
    "    \n",
    "print(\"Reach End \\n\")"
   ]
  },
  {
   "cell_type": "markdown",
   "metadata": {},
   "source": [
    "### References"
   ]
  },
  {
   "cell_type": "markdown",
   "metadata": {},
   "source": [
    "1. https://github.com/YashG2002/Tomato-Disease-Detection"
   ]
  },
  {
   "cell_type": "markdown",
   "metadata": {},
   "source": [
    "### License"
   ]
  },
  {
   "cell_type": "markdown",
   "metadata": {},
   "source": [
    "MIT License\n",
    "\n",
    "Copyright (c) 2018 Yash Gupta\n",
    "\n",
    "Permission is hereby granted, free of charge, to any person obtaining a copy\n",
    "of this software and associated documentation files (the \"Software\"), to deal\n",
    "in the Software without restriction, including without limitation the rights\n",
    "to use, copy, modify, merge, publish, distribute, sublicense, and/or sell\n",
    "copies of the Software, and to permit persons to whom the Software is\n",
    "furnished to do so, subject to the following conditions:\n",
    "\n",
    "The above copyright notice and this permission notice shall be included in all\n",
    "copies or substantial portions of the Software.\n",
    "\n",
    "THE SOFTWARE IS PROVIDED \"AS IS\", WITHOUT WARRANTY OF ANY KIND, EXPRESS OR\n",
    "IMPLIED, INCLUDING BUT NOT LIMITED TO THE WARRANTIES OF MERCHANTABILITY,\n",
    "FITNESS FOR A PARTICULAR PURPOSE AND NONINFRINGEMENT. IN NO EVENT SHALL THE\n",
    "AUTHORS OR COPYRIGHT HOLDERS BE LIABLE FOR ANY CLAIM, DAMAGES OR OTHER\n",
    "LIABILITY, WHETHER IN AN ACTION OF CONTRACT, TORT OR OTHERWISE, ARISING FROM,\n",
    "OUT OF OR IN CONNECTION WITH THE SOFTWARE OR THE USE OR OTHER DEALINGS IN THE\n",
    "SOFTWARE."
   ]
  }
 ],
 "metadata": {
  "kernelspec": {
   "display_name": "Python 3",
   "language": "python",
   "name": "python3"
  },
  "language_info": {
   "codemirror_mode": {
    "name": "ipython",
    "version": 3
   },
   "file_extension": ".py",
   "mimetype": "text/x-python",
   "name": "python",
   "nbconvert_exporter": "python",
   "pygments_lexer": "ipython3",
   "version": "3.6.6"
  }
 },
 "nbformat": 4,
 "nbformat_minor": 2
}
