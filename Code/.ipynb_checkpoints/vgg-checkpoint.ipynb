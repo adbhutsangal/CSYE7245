{
 "cells": [
  {
   "cell_type": "markdown",
   "metadata": {},
   "source": [
    "# VGG 16"
   ]
  },
  {
   "cell_type": "markdown",
   "metadata": {},
   "source": [
    "### Importing Library and Models "
   ]
  },
  {
   "cell_type": "code",
   "execution_count": 1,
   "metadata": {},
   "outputs": [
    {
     "name": "stderr",
     "output_type": "stream",
     "text": [
      "Using TensorFlow backend.\n"
     ]
    }
   ],
   "source": [
    "from __future__ import print_function\n",
    "from keras.applications.vgg16 import VGG16, preprocess_input\n",
    "from keras.layers import Input, AveragePooling2D, Dropout\n",
    "from sklearn.model_selection import train_test_split\n",
    "from keras.models import Model\n",
    "from sklearn.metrics import f1_score\n",
    "from keras.layers.core import Dense, Activation, Flatten, Dropout\n",
    "import math\n",
    "from keras import optimizers\n",
    "from keras.layers.convolutional import Convolution2D\n",
    "from keras.layers.pooling import MaxPooling2D\n",
    "from keras.regularizers import l2\n",
    "import codecs\n",
    "import sklearn.metrics as sklm\n",
    "from keras.utils.np_utils import to_categorical\n",
    "import keras\n",
    "import matplotlib.pyplot as plt\n",
    "import tensorflow as tf\n",
    "import keras.backend as K\n",
    "import sys\n",
    "\n",
    "import os\n",
    "import cv2\n",
    "import numpy as np\n",
    "import scipy.misc as sm"
   ]
  },
  {
   "cell_type": "markdown",
   "metadata": {},
   "source": [
    "### Loading the Data [1]"
   ]
  },
  {
   "cell_type": "code",
   "execution_count": 2,
   "metadata": {},
   "outputs": [
    {
     "name": "stdout",
     "output_type": "stream",
     "text": [
      "['Apple___Cedar_apple_rust', 'Apple___Apple_scab', 'Apple___Black_rot', 'Apple___healthy']\n",
      "Reach 1 \n",
      "\n"
     ]
    }
   ],
   "source": [
    "ls1=os.listdir('color')\n",
    "\n",
    "if '.DS_Store' in ls1:\n",
    "    ls1.remove('.DS_Store')\n",
    "\n",
    "print(ls1)\n",
    "\n",
    "dic1={}\n",
    "count=0\n",
    "\n",
    "for idx,i in enumerate(ls1):\n",
    "    dic1[i]=idx\n",
    "    ls2=os.listdir('color/'+i)\n",
    "    if '.DS_Store' in ls2:\n",
    "        ls2.remove('.DS_Store')\n",
    "    for j in ls2:\n",
    "        count=count+1\n",
    "        \n",
    "print(\"Reach 1 \\n\")\n",
    "ls1=os.listdir('color')\n",
    "if '.DS_Store' in ls1:\n",
    "    ls1.remove('.DS_Store')\n",
    "\n",
    "dic1={}\n",
    "X=np.zeros((count,256,256,3))\n",
    "Y=np.zeros((count,1))\n",
    "vap=0\n",
    "\n",
    "for idx,i in enumerate(ls1):\n",
    "    dic1[i]=idx\n",
    "    ls2=os.listdir('color/'+i)\n",
    "    if '.DS_Store' in ls2:\n",
    "        ls2.remove('.DS_Store')\n",
    "    for idx2,j in enumerate(ls2):\n",
    "        X[vap, :, :, :]=cv2.imread('color/'+i+'/'+j)\n",
    "        Y[vap,0]=idx\n",
    "        vap=vap+1"
   ]
  },
  {
   "cell_type": "markdown",
   "metadata": {},
   "source": [
    "### Defining Metric Functions [1]"
   ]
  },
  {
   "cell_type": "code",
   "execution_count": 3,
   "metadata": {},
   "outputs": [],
   "source": [
    "class Metrics(keras.callbacks.Callback):\n",
    "    def on_train_begin(self, logs={}):\n",
    "        self.confusion = []\n",
    "        self.precision = []\n",
    "        self.recall = []\n",
    "        self.f1s = []\n",
    "\n",
    "    def on_epoch_end(self, epoch, logs={}):\n",
    "        score = np.asarray(self.model.predict(self.validation_data[0]))\n",
    "        predict = np.round(np.asarray(self.model.predict(self.validation_data[0])))\n",
    "        targ = self.validation_data[1]\n",
    "\n",
    "        self.f1s.append(sklm.f1_score(targ, predict,average='micro'))\n",
    "        self.confusion.append(sklm.confusion_matrix(targ.argmax(axis=1),predict.argmax(axis=1)))\n",
    "\n",
    "        return"
   ]
  },
  {
   "cell_type": "markdown",
   "metadata": {},
   "source": [
    "### Setting Hyper-parameters [1]"
   ]
  },
  {
   "cell_type": "code",
   "execution_count": 4,
   "metadata": {},
   "outputs": [
    {
     "name": "stdout",
     "output_type": "stream",
     "text": [
      "Reach 2.5 \n",
      "\n"
     ]
    }
   ],
   "source": [
    "#Hyperparameters\n",
    "batch_size = 64\n",
    "num_classes = len(dic1)\n",
    "epochs = 30\n",
    "\n",
    "# input image dimensions\n",
    "img_rows, img_cols = 256, 256\n",
    "h = 299\n",
    "w = 299\n",
    "ch = 3\n",
    "print(\"Reach 2.5 \\n\")\n",
    "#tensor. will receive cifar10 images as input, gets passed to resize_images\n",
    "img_placeholder = tf.placeholder(\"uint8\", (None, 256, 256, 3))\n",
    "\n",
    "#tensor. resized images. gets passed into Session()\n",
    "resize_op = tf.image.resize_images(img_placeholder, (h, w), method=0)"
   ]
  },
  {
   "cell_type": "markdown",
   "metadata": {},
   "source": [
    "### Defining Pre-processing Images function[1] and the VGG16 Model"
   ]
  },
  {
   "cell_type": "code",
   "execution_count": 5,
   "metadata": {},
   "outputs": [
    {
     "name": "stdout",
     "output_type": "stream",
     "text": [
      "Reach 2.8 \n",
      "\n"
     ]
    }
   ],
   "source": [
    "# create a generator for batch processing\n",
    "# this gen is written as if you could run through ALL of the data\n",
    "# AWS instance doesn't have enough memory to hold the entire training bottleneck in memory\n",
    "# so we will call for 10000 samples when we call it\n",
    "def gen(session, data, labels, batch_size):\n",
    "    def _f():\n",
    "        start = 0\n",
    "        end = start + batch_size\n",
    "        n = data.shape[0]\n",
    "        max_iter = math.ceil(n/batch_size)\n",
    "        while True:\n",
    "            # run takes in a tensor/function and performs it.\n",
    "            # almost always, that function will take a Tensor as input\n",
    "            # when run is called, it takes a feed_dict param which translates\n",
    "            # Tensors into actual data/integers/floats/etc\n",
    "            # this is so you can write a network and only have to change the\n",
    "            # data being passed in one place instead of everywhere\n",
    "            for i in range(0,max_iter):\n",
    "                # X_batch is resized\n",
    "                X_batch = session.run(resize_op, {img_placeholder: data[start:end]})\n",
    "                # X_batch is normalized\n",
    "                X_batch = preprocess_input(X_batch)\n",
    "                y_batch = labels[start:end]\n",
    "                start += batch_size\n",
    "                end += batch_size\n",
    "\n",
    "                yield (X_batch, y_batch)\n",
    "\n",
    "    return _f\n",
    "\n",
    "\n",
    "def create_model_vgg():\n",
    "    #create input tensor\n",
    "    input_tensor = Input(shape=(h, w, ch))\n",
    "    #set the model\n",
    "    model = VGG16(input_tensor=input_tensor, include_top=False)\n",
    "    return model\n",
    "print(\"Reach 2.8 \\n\")"
   ]
  },
  {
   "cell_type": "markdown",
   "metadata": {},
   "source": [
    "### Splitting the data into Train and Test [1]"
   ]
  },
  {
   "cell_type": "code",
   "execution_count": 6,
   "metadata": {},
   "outputs": [
    {
     "name": "stdout",
     "output_type": "stream",
     "text": [
      "Reach 3 \n",
      "\n",
      "(2219, 256, 256, 3)\n",
      "(2219, 1)\n"
     ]
    }
   ],
   "source": [
    "X_train1, X_val1, y_train, y_val = train_test_split(X, Y, test_size=0.3, random_state=0,shuffle=True)\n",
    "print(\"Reach 3 \\n\")\n",
    "print(X_train1.shape)\n",
    "print(y_train.shape)"
   ]
  },
  {
   "cell_type": "markdown",
   "metadata": {},
   "source": [
    "### Training the model on the dataset [1]"
   ]
  },
  {
   "cell_type": "code",
   "execution_count": 7,
   "metadata": {},
   "outputs": [
    {
     "name": "stdout",
     "output_type": "stream",
     "text": [
      "conv to train list complete\n",
      "conv to val list complete\n",
      "Reach 4 \n",
      "\n",
      "Reach 4 end \n",
      "\n"
     ]
    }
   ],
   "source": [
    "with tf.Session() as sess:\n",
    "    K.set_session(sess)\n",
    "    K.set_learning_phase(1)\n",
    "\n",
    "    model = create_model_vgg()                            #call the model function\n",
    "\n",
    "    train_gen = gen(sess, X_train1, y_train, batch_size)  #pre-process the train data\n",
    "    \n",
    "    X_train = model.predict_generator(train_gen(), 64)    #implement model on train data\n",
    "    print(\"conv to train list complete\")\n",
    "    \n",
    "\n",
    "    val_gen = gen(sess, X_val1, y_val, batch_size)        #pre-process the test data\n",
    "    \n",
    "    X_val = model.predict_generator(val_gen(), 64)        #implement model on test data\n",
    "    print(\"conv to val list complete\")\n",
    "    \n",
    "print(\"Reach 4 \\n\")\n",
    "\n",
    "y_train = to_categorical(y_train, num_classes= num_classes)\n",
    "y_val = to_categorical(y_val,num_classes = num_classes)\n",
    "\n",
    "print(\"Reach 4 end \\n\")"
   ]
  },
  {
   "cell_type": "markdown",
   "metadata": {},
   "source": [
    "### Creating the Final Layer [1]"
   ]
  },
  {
   "cell_type": "code",
   "execution_count": 8,
   "metadata": {},
   "outputs": [],
   "source": [
    "# Adding final layer\n",
    "input_shape = X_train.shape[1:]\n",
    "inp = Input(shape=input_shape)\n",
    "x = Flatten()(inp)\n",
    "x = Dense(num_classes, activation='softmax')(x)\n",
    "model = Model(inp, x)\n",
    "sgd = optimizers.SGD(lr=0.001, decay=1e-6, momentum=0.9, nesterov=True)\n",
    "model.compile(optimizer=sgd, loss='categorical_crossentropy', metrics=['accuracy'])\n",
    "\n",
    "metrics = Metrics()"
   ]
  },
  {
   "cell_type": "markdown",
   "metadata": {},
   "source": [
    "### Results [1]"
   ]
  },
  {
   "cell_type": "code",
   "execution_count": 9,
   "metadata": {},
   "outputs": [
    {
     "name": "stdout",
     "output_type": "stream",
     "text": [
      "Train on 2219 samples, validate on 952 samples\n",
      "Epoch 1/30\n",
      "2219/2219 [==============================] - 2s 768us/step - loss: 5.3758 - acc: 0.6417 - val_loss: 4.9645 - val_acc: 0.6880\n",
      "Epoch 2/30\n",
      "2219/2219 [==============================] - 1s 616us/step - loss: 4.8739 - acc: 0.6936 - val_loss: 4.9886 - val_acc: 0.6838\n",
      "Epoch 3/30\n",
      "2219/2219 [==============================] - 1s 607us/step - loss: 4.7416 - acc: 0.7039 - val_loss: 4.6961 - val_acc: 0.7069\n",
      "Epoch 4/30\n",
      "2219/2219 [==============================] - 1s 592us/step - loss: 4.6796 - acc: 0.7084 - val_loss: 4.7670 - val_acc: 0.6996\n",
      "Epoch 5/30\n",
      "2219/2219 [==============================] - 1s 590us/step - loss: 4.6525 - acc: 0.7098 - val_loss: 4.7678 - val_acc: 0.6996\n",
      "Epoch 6/30\n",
      "2219/2219 [==============================] - 1s 590us/step - loss: 4.6371 - acc: 0.7107 - val_loss: 4.8568 - val_acc: 0.6922\n",
      "Epoch 7/30\n",
      "2219/2219 [==============================] - 1s 590us/step - loss: 4.6338 - acc: 0.7120 - val_loss: 4.7065 - val_acc: 0.7048\n",
      "Epoch 8/30\n",
      "2219/2219 [==============================] - 1s 591us/step - loss: 4.6062 - acc: 0.7138 - val_loss: 4.6773 - val_acc: 0.7080\n",
      "Epoch 9/30\n",
      "2219/2219 [==============================] - 1s 589us/step - loss: 4.6019 - acc: 0.7138 - val_loss: 4.7119 - val_acc: 0.7059\n",
      "Epoch 10/30\n",
      "2219/2219 [==============================] - 1s 591us/step - loss: 4.5991 - acc: 0.7143 - val_loss: 4.7491 - val_acc: 0.7027\n",
      "Epoch 11/30\n",
      "2219/2219 [==============================] - 1s 590us/step - loss: 4.6068 - acc: 0.7138 - val_loss: 4.7426 - val_acc: 0.7027\n",
      "Epoch 12/30\n",
      "2219/2219 [==============================] - 1s 589us/step - loss: 4.6026 - acc: 0.7138 - val_loss: 4.6673 - val_acc: 0.7080\n",
      "Epoch 13/30\n",
      "2219/2219 [==============================] - 1s 591us/step - loss: 4.5985 - acc: 0.7143 - val_loss: 4.6727 - val_acc: 0.7080\n",
      "Epoch 14/30\n",
      "2219/2219 [==============================] - 1s 604us/step - loss: 4.5979 - acc: 0.7147 - val_loss: 4.6752 - val_acc: 0.7090\n",
      "Epoch 15/30\n",
      "2219/2219 [==============================] - 1s 589us/step - loss: 4.5979 - acc: 0.7147 - val_loss: 4.6752 - val_acc: 0.7090\n",
      "Epoch 16/30\n",
      "2219/2219 [==============================] - 1s 590us/step - loss: 4.5979 - acc: 0.7147 - val_loss: 4.6752 - val_acc: 0.7090\n",
      "Epoch 17/30\n",
      "2219/2219 [==============================] - 1s 591us/step - loss: 4.5979 - acc: 0.7147 - val_loss: 4.6752 - val_acc: 0.7090\n",
      "Epoch 18/30\n",
      "2219/2219 [==============================] - 1s 589us/step - loss: 4.5979 - acc: 0.7147 - val_loss: 4.6752 - val_acc: 0.7090\n",
      "Epoch 19/30\n",
      "2219/2219 [==============================] - 1s 589us/step - loss: 4.5979 - acc: 0.7147 - val_loss: 4.6752 - val_acc: 0.7090\n",
      "Epoch 20/30\n",
      "2219/2219 [==============================] - 1s 588us/step - loss: 4.5979 - acc: 0.7147 - val_loss: 4.6752 - val_acc: 0.7090\n",
      "Epoch 21/30\n",
      "2219/2219 [==============================] - 1s 592us/step - loss: 4.5979 - acc: 0.7147 - val_loss: 4.6752 - val_acc: 0.7090\n",
      "Epoch 22/30\n",
      "2219/2219 [==============================] - 1s 590us/step - loss: 4.5979 - acc: 0.7147 - val_loss: 4.6752 - val_acc: 0.7090\n",
      "Epoch 23/30\n",
      "2219/2219 [==============================] - 1s 590us/step - loss: 4.5979 - acc: 0.7147 - val_loss: 4.6752 - val_acc: 0.7090\n",
      "Epoch 24/30\n",
      "2219/2219 [==============================] - 1s 589us/step - loss: 4.5979 - acc: 0.7147 - val_loss: 4.6752 - val_acc: 0.7090\n",
      "Epoch 25/30\n",
      "2219/2219 [==============================] - 1s 592us/step - loss: 4.5979 - acc: 0.7147 - val_loss: 4.6752 - val_acc: 0.7090\n",
      "Epoch 26/30\n",
      "2219/2219 [==============================] - 1s 592us/step - loss: 4.5979 - acc: 0.7147 - val_loss: 4.6752 - val_acc: 0.7090\n",
      "Epoch 27/30\n",
      "2219/2219 [==============================] - 1s 592us/step - loss: 4.5979 - acc: 0.7147 - val_loss: 4.6752 - val_acc: 0.7090\n",
      "Epoch 28/30\n",
      "2219/2219 [==============================] - 1s 593us/step - loss: 4.5979 - acc: 0.7147 - val_loss: 4.6752 - val_acc: 0.7090\n",
      "Epoch 29/30\n",
      "2219/2219 [==============================] - 1s 591us/step - loss: 4.5979 - acc: 0.7147 - val_loss: 4.6752 - val_acc: 0.7090\n",
      "Epoch 30/30\n",
      "2219/2219 [==============================] - 1s 590us/step - loss: 4.5979 - acc: 0.7147 - val_loss: 4.6752 - val_acc: 0.7090\n",
      "[0.6880252100840336, 0.6838235294117647, 0.7069327731092437, 0.6995798319327731, 0.6995798319327731, 0.6922268907563025, 0.7048319327731093, 0.707983193277311, 0.7058823529411765, 0.7027310924369747, 0.7027310924369747, 0.707983193277311, 0.707983193277311, 0.7090336134453783, 0.7090336134453783, 0.7090336134453783, 0.7090336134453783, 0.7090336134453783, 0.7090336134453783, 0.7090336134453783, 0.7090336134453783, 0.7090336134453783, 0.7090336134453783, 0.7090336134453783, 0.7090336134453783, 0.7090336134453783, 0.7090336134453783, 0.7090336134453783, 0.7090336134453783, 0.7090336134453783]\n",
      "[0.6417305096950333, 0.693555655647044, 0.7039206847246298, 0.7084272194145068, 0.7097791795421151, 0.7106804862222246, 0.7120324475048576, 0.7138350603547167, 0.71383506121427, 0.714285714097687, 0.713835060569605, 0.7138350603547167, 0.7142857143125754, 0.7147363681092677, 0.7147363674646028, 0.7147363681898509, 0.7147363681898509, 0.7147363672497145, 0.7147363676794911, 0.7147363676794911, 0.7147363677600742, 0.7147363674646028, 0.7147363674646028, 0.7147363676794911, 0.7147363681092677, 0.7147363676794911, 0.7147363675451859, 0.7147363677600742, 0.7147363681898509, 0.7147363681898509]\n"
     ]
    },
    {
     "data": {
      "image/png": "[encoded data removed]",
      "text/plain": [
       "<Figure size 432x288 with 1 Axes>"
      ]
     },
     "metadata": {
      "needs_background": "light"
     },
     "output_type": "display_data"
    },
    {
     "data": {
      "image/png": "[encoded data removed]",
      "text/plain": [
       "<Figure size 432x288 with 1 Axes>"
      ]
     },
     "metadata": {
      "needs_background": "light"
     },
     "output_type": "display_data"
    },
    {
     "data": {
      "image/png": "[encoded data removed]",
      "text/plain": [
       "<Figure size 432x288 with 1 Axes>"
      ]
     },
     "metadata": {
      "needs_background": "light"
     },
     "output_type": "display_data"
    },
    {
     "name": "stdout",
     "output_type": "stream",
     "text": [
      "[[  0  36   0  36]\n",
      " [  0 202   0   6]\n",
      " [  0  80   0 118]\n",
      " [  0   1   0 473]]\n",
      "Reach End \n",
      "\n"
     ]
    }
   ],
   "source": [
    "with tf.Session() as sess:\n",
    "    # fetch session so Keras API can work\n",
    "    K.set_session(sess)\n",
    "    K.set_learning_phase(1)\n",
    "    history =model.fit(X_train, y_train, epochs=epochs, batch_size=batch_size,\n",
    "                       validation_data=(X_val, y_val), shuffle=True, verbose=1,callbacks=[metrics] )\n",
    "    print(metrics.f1s)\n",
    "\n",
    "    acc = history.history['acc']\n",
    "    val_acc = history.history['val_acc']\n",
    "    loss = history.history['loss']\n",
    "    val_loss = history.history['val_loss']\n",
    "    print(history.history['acc'])\n",
    "    \n",
    "    # summarize history for accuracy\n",
    "    plt.plot(history.history['acc'])\n",
    "    plt.plot(history.history['val_acc'])\n",
    "    plt.title('model accuracy')\n",
    "    plt.ylabel('accuracy')\n",
    "    plt.xlabel('epoch')\n",
    "    plt.legend(['train ' + str(acc[-1]), 'test ' + str(val_acc[-1])], loc='upper left')\n",
    "    plt.show()\n",
    "\n",
    "    # summarize history for loss\n",
    "    plt.plot(history.history['loss'])\n",
    "    plt.plot(history.history['val_loss'])\n",
    "    plt.title('model loss')\n",
    "    plt.ylabel('loss')\n",
    "    plt.xlabel('epoch')\n",
    "    plt.legend(['train ' + str(loss[-1]), 'test ' + str(val_loss[-1])], loc='upper left')\n",
    "    plt.show()\n",
    "\n",
    "    # # summarize history for f1\n",
    "    plt.plot(metrics.f1s)\n",
    "    plt.title('f1 mean score')\n",
    "    plt.ylabel('f1')\n",
    "    plt.xlabel('epoch')\n",
    "    plt.legend(['val ' + str(metrics.f1s[-1])], loc='upper left')\n",
    "    plt.show()\n",
    "\n",
    "    print(metrics.confusion[-1])\n",
    "\n",
    "print(\"Reach End \\n\")"
   ]
  },
  {
   "cell_type": "markdown",
   "metadata": {},
   "source": [
    "### References"
   ]
  },
  {
   "cell_type": "markdown",
   "metadata": {},
   "source": [
    "1. https://github.com/puranjayr96/Tomato_Disease_Detection"
   ]
  }
 ],
 "metadata": {
  "kernelspec": {
   "display_name": "Python 3",
   "language": "python",
   "name": "python3"
  },
  "language_info": {
   "codemirror_mode": {
    "name": "ipython",
    "version": 3
   },
   "file_extension": ".py",
   "mimetype": "text/x-python",
   "name": "python",
   "nbconvert_exporter": "python",
   "pygments_lexer": "ipython3",
   "version": "3.6.6"
  }
 },
 "nbformat": 4,
 "nbformat_minor": 2
}
